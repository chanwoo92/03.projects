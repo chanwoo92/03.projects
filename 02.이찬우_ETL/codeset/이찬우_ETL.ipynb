{
 "cells": [
  {
   "cell_type": "code",
   "execution_count": 1,
   "id": "978bfa64-2aba-4955-9c25-61348c060bde",
   "metadata": {},
   "outputs": [],
   "source": [
    "import pandas as pd\n",
    "from sqlalchemy import create_engine,types\n",
    "import os\n",
    "param = pd.read_csv(\"../dataset/PARAM.txt\")\n",
    "dbId = param.loc[4, 'PARAM_VALUE']\n",
    "dbPw = param.loc[5, 'PARAM_VALUE']\n",
    "dbIp = param.loc[1, 'PARAM_VALUE']\n",
    "dbPort = param.loc[2, 'PARAM_VALUE']\n",
    "dbName = param.loc[3, 'PARAM_VALUE']\n",
    "dbPrefix = \"oracle+cx_oracle\"\n",
    "dataEncoding = \"ms949\" # ms949, utf-8\n",
    "# DB 커넥션 열기\n",
    "engine = create_engine('oracle+cx_oracle://{}:{}@{}:{}/{}'.format(dbId,dbPw,dbIp,dbPort,dbName)    ) "
   ]
  },
  {
   "cell_type": "code",
   "execution_count": 2,
   "id": "6ca3f725-c613-4844-8b51-beb17265bb78",
   "metadata": {},
   "outputs": [
    {
     "data": {
      "text/plain": [
       "['.ipynb_checkpoints',\n",
       " 'CHEON.csv',\n",
       " 'CHESUNGBUN.csv',\n",
       " 'CHOLESTEROL.csv',\n",
       " 'GOMILDO_CHOLESTEROL.csv',\n",
       " 'HYULAP.csv',\n",
       " 'HYULDANG.csv',\n",
       " 'JEOMILDO_CHOLESTEROL.csv',\n",
       " 'JUNGSUNGJIBANG.csv',\n",
       " 'PEEUM.csv',\n",
       " 'SANSOPOHWADO.csv',\n",
       " 'SIMBAKSU.csv',\n",
       " 'SIMJANGEUM.csv']"
      ]
     },
     "execution_count": 2,
     "metadata": {},
     "output_type": "execute_result"
    }
   ],
   "source": [
    "# 불러올 파일\n",
    "filePath = \"../dataset2\"\n",
    "fileName = os.listdir(filePath)\n"
   ]
  },
  {
   "cell_type": "code",
   "execution_count": 3,
   "id": "b2539719-61b1-46ae-9b2d-9624a00b01b8",
   "metadata": {},
   "outputs": [
    {
     "name": "stdout",
     "output_type": "stream",
     "text": [
      "[Errno 13] Permission denied: '../dataset2/.ipynb_checkpoints'\n",
      "(cx_Oracle.DatabaseError) ORA-28000: the account is locked\n",
      "(Background on this error at: https://sqlalche.me/e/20/4xp6)\n",
      "(cx_Oracle.DatabaseError) ORA-28000: the account is locked\n",
      "(Background on this error at: https://sqlalche.me/e/20/4xp6)\n",
      "(cx_Oracle.DatabaseError) ORA-28000: the account is locked\n",
      "(Background on this error at: https://sqlalche.me/e/20/4xp6)\n",
      "(cx_Oracle.DatabaseError) ORA-28000: the account is locked\n",
      "(Background on this error at: https://sqlalche.me/e/20/4xp6)\n",
      "(cx_Oracle.DatabaseError) ORA-28000: the account is locked\n",
      "(Background on this error at: https://sqlalche.me/e/20/4xp6)\n",
      "(cx_Oracle.DatabaseError) ORA-28000: the account is locked\n",
      "(Background on this error at: https://sqlalche.me/e/20/4xp6)\n",
      "(cx_Oracle.DatabaseError) ORA-28000: the account is locked\n",
      "(Background on this error at: https://sqlalche.me/e/20/4xp6)\n",
      "(cx_Oracle.DatabaseError) ORA-28000: the account is locked\n",
      "(Background on this error at: https://sqlalche.me/e/20/4xp6)\n",
      "(cx_Oracle.DatabaseError) ORA-28000: the account is locked\n",
      "(Background on this error at: https://sqlalche.me/e/20/4xp6)\n",
      "(cx_Oracle.DatabaseError) ORA-28000: the account is locked\n",
      "(Background on this error at: https://sqlalche.me/e/20/4xp6)\n",
      "(cx_Oracle.DatabaseError) ORA-28000: the account is locked\n",
      "(Background on this error at: https://sqlalche.me/e/20/4xp6)\n",
      "(cx_Oracle.DatabaseError) ORA-28000: the account is locked\n",
      "(Background on this error at: https://sqlalche.me/e/20/4xp6)\n",
      "done\n"
     ]
    }
   ],
   "source": [
    "for i in range(0, len(fileName)) :\n",
    "    try :\n",
    "\n",
    "        # 파일 불러오기\n",
    "        indata = pd.read_csv(f'{filePath}/{fileName[i]}')\n",
    "\n",
    "        # object 타입을 VARCHAR2로 설정\n",
    "        objectColumns = list(indata.columns[indata.dtypes == 'object'])\n",
    "        typeDict={}\n",
    "        maxLen = 100\n",
    "\n",
    "        for j in range(0, len(objectColumns)):\n",
    "            typeDict[ objectColumns[j] ] = types.VARCHAR(maxLen)\n",
    "\n",
    "        # float 타입을 NUMERIC으로 설정\n",
    "        floatColumns = list(indata.columns[indata.dtypes == 'float64'])\n",
    "\n",
    "        for j in range(0, len(floatColumns)):\n",
    "            typeDict[ floatColumns[j] ] = types.NUMERIC\n",
    "\n",
    "        # 생성할 태이블명\n",
    "        tableName = ((fileName[i].split(\".\"))[0]).lower()\n",
    "\n",
    "        # 태이블 생성\n",
    "        indata.to_sql(name = tableName,\n",
    "                      con = engine,\n",
    "                      if_exists='replace',\n",
    "                      dtype=typeDict,\n",
    "                      index=False)\n",
    "\n",
    "        print(f\"{tableName} is created in {param.loc[0, 'PARAM_VALUE']} {dbName}\")\n",
    "    except Exception as e :\n",
    "        print(e)\n",
    "\n",
    "print(\"done\")"
   ]
  },
  {
   "cell_type": "code",
   "execution_count": null,
   "id": "6b6d46c7-2966-4f4c-af35-e65c4250c268",
   "metadata": {},
   "outputs": [],
   "source": []
  }
 ],
 "metadata": {
  "kernelspec": {
   "display_name": "Python 3 (ipykernel)",
   "language": "python",
   "name": "python3"
  },
  "language_info": {
   "codemirror_mode": {
    "name": "ipython",
    "version": 3
   },
   "file_extension": ".py",
   "mimetype": "text/x-python",
   "name": "python",
   "nbconvert_exporter": "python",
   "pygments_lexer": "ipython3",
   "version": "3.10.11"
  }
 },
 "nbformat": 4,
 "nbformat_minor": 5
}
